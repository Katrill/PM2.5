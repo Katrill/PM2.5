{
  "nbformat": 4,
  "nbformat_minor": 0,
  "metadata": {
    "colab": {
      "provenance": [],
      "toc_visible": true,
      "mount_file_id": "1GcV-swCaELjd_Pp7wmWARsqjtGsof2Cd",
      "authorship_tag": "ABX9TyOyp32OB7vpIOU/EvhPDn4+",
      "include_colab_link": true
    },
    "kernelspec": {
      "name": "python3",
      "display_name": "Python 3"
    },
    "language_info": {
      "name": "python"
    }
  },
  "cells": [
    {
      "cell_type": "markdown",
      "metadata": {
        "id": "view-in-github",
        "colab_type": "text"
      },
      "source": [
        "<a href=\"https://colab.research.google.com/github/Katrill/PM2.5/blob/main/ocr_libraries.ipynb\" target=\"_parent\"><img src=\"https://colab.research.google.com/assets/colab-badge.svg\" alt=\"Open In Colab\"/></a>"
      ]
    },
    {
      "cell_type": "markdown",
      "source": [
        "# *Installation Tesseract, cv2, easyOCR*"
      ],
      "metadata": {
        "id": "XPmGCxTPKMO1"
      }
    },
    {
      "cell_type": "code",
      "source": [
        "import pandas as pd"
      ],
      "metadata": {
        "id": "adLePm8W9f9q"
      },
      "execution_count": 2,
      "outputs": []
    },
    {
      "cell_type": "code",
      "execution_count": 1,
      "metadata": {
        "colab": {
          "base_uri": "https://localhost:8080/"
        },
        "id": "Tu8u4Vc_GAw5",
        "outputId": "9ef82e02-445a-49d5-d759-e659a6ad1ad0"
      },
      "outputs": [
        {
          "output_type": "stream",
          "name": "stdout",
          "text": [
            "Reading package lists... Done\n",
            "Building dependency tree       \n",
            "Reading state information... Done\n",
            "tesseract-ocr is already the newest version (4.00~git2288-10f4998a-2).\n",
            "The following package was automatically installed and is no longer required:\n",
            "  libnvidia-common-460\n",
            "Use 'sudo apt autoremove' to remove it.\n",
            "0 upgraded, 0 newly installed, 0 to remove and 5 not upgraded.\n",
            "Looking in indexes: https://pypi.org/simple, https://us-python.pkg.dev/colab-wheels/public/simple/\n",
            "Requirement already satisfied: pytesseract in /usr/local/lib/python3.7/dist-packages (0.3.10)\n",
            "Requirement already satisfied: Pillow>=8.0.0 in /usr/local/lib/python3.7/dist-packages (from pytesseract) (9.3.0)\n",
            "Requirement already satisfied: packaging>=21.3 in /usr/local/lib/python3.7/dist-packages (from pytesseract) (21.3)\n",
            "Requirement already satisfied: pyparsing!=3.0.5,>=2.0.2 in /usr/local/lib/python3.7/dist-packages (from packaging>=21.3->pytesseract) (3.0.9)\n"
          ]
        }
      ],
      "source": [
        "!sudo apt install tesseract-ocr\n",
        "!pip install pytesseract"
      ]
    },
    {
      "cell_type": "code",
      "source": [
        "import pytesseract\n",
        "import shutil\n",
        "import os\n",
        "import random\n",
        "try:\n",
        " from PIL import Image\n",
        "except ImportError:\n",
        " import Image"
      ],
      "metadata": {
        "id": "GW0sEgNqH-2v"
      },
      "execution_count": 4,
      "outputs": []
    },
    {
      "cell_type": "code",
      "source": [
        "!pip install opencv-python"
      ],
      "metadata": {
        "colab": {
          "base_uri": "https://localhost:8080/"
        },
        "id": "s-xlxrQyMb6H",
        "outputId": "9684fb81-fc47-4420-c137-25b16aaefbf8"
      },
      "execution_count": 4,
      "outputs": [
        {
          "output_type": "stream",
          "name": "stdout",
          "text": [
            "Looking in indexes: https://pypi.org/simple, https://us-python.pkg.dev/colab-wheels/public/simple/\n",
            "Requirement already satisfied: opencv-python in /usr/local/lib/python3.7/dist-packages (4.6.0.66)\n",
            "Requirement already satisfied: numpy>=1.14.5 in /usr/local/lib/python3.7/dist-packages (from opencv-python) (1.21.6)\n"
          ]
        }
      ]
    },
    {
      "cell_type": "code",
      "source": [
        "import cv2"
      ],
      "metadata": {
        "id": "RR3MtUIRNU5Z"
      },
      "execution_count": 9,
      "outputs": []
    },
    {
      "cell_type": "code",
      "source": [
        "# version\n",
        "!tesseract -v"
      ],
      "metadata": {
        "colab": {
          "base_uri": "https://localhost:8080/"
        },
        "id": "-a2DRZVMH-wk",
        "outputId": "6b8350d7-865f-4e41-8ee3-bae96c55fdf7"
      },
      "execution_count": 6,
      "outputs": [
        {
          "output_type": "stream",
          "name": "stdout",
          "text": [
            "tesseract 4.0.0-beta.1\n",
            " leptonica-1.75.3\n",
            "  libgif 5.1.4 : libjpeg 8d (libjpeg-turbo 1.5.2) : libpng 1.6.34 : libtiff 4.0.9 : zlib 1.2.11 : libwebp 0.6.1 : libopenjp2 2.3.0\n",
            "\n",
            " Found AVX2\n",
            " Found AVX\n",
            " Found SSE\n"
          ]
        }
      ]
    },
    {
      "cell_type": "code",
      "source": [
        "# Add russian language to Tesseract\n",
        "!sudo apt-get install tesseract-ocr-rus"
      ],
      "metadata": {
        "colab": {
          "base_uri": "https://localhost:8080/"
        },
        "id": "Dc1XUkt-H-tB",
        "outputId": "daad2a3c-1e97-4d02-b36c-8557f2b183e9"
      },
      "execution_count": 7,
      "outputs": [
        {
          "output_type": "stream",
          "name": "stdout",
          "text": [
            "Reading package lists... Done\n",
            "Building dependency tree       \n",
            "Reading state information... Done\n",
            "The following package was automatically installed and is no longer required:\n",
            "  libnvidia-common-460\n",
            "Use 'sudo apt autoremove' to remove it.\n",
            "The following NEW packages will be installed:\n",
            "  tesseract-ocr-rus\n",
            "0 upgraded, 1 newly installed, 0 to remove and 5 not upgraded.\n",
            "Need to get 1,272 kB of archives.\n",
            "After this operation, 3,877 kB of additional disk space will be used.\n",
            "Get:1 http://archive.ubuntu.com/ubuntu bionic/universe amd64 tesseract-ocr-rus all 4.00~git24-0e00fe6-1.2 [1,272 kB]\n",
            "Fetched 1,272 kB in 2s (568 kB/s)\n",
            "debconf: unable to initialize frontend: Dialog\n",
            "debconf: (No usable dialog-like program is installed, so the dialog based frontend cannot be used. at /usr/share/perl5/Debconf/FrontEnd/Dialog.pm line 76, <> line 1.)\n",
            "debconf: falling back to frontend: Readline\n",
            "debconf: unable to initialize frontend: Readline\n",
            "debconf: (This frontend requires a controlling tty.)\n",
            "debconf: falling back to frontend: Teletype\n",
            "dpkg-preconfigure: unable to re-open stdin: \n",
            "Selecting previously unselected package tesseract-ocr-rus.\n",
            "(Reading database ... 124038 files and directories currently installed.)\n",
            "Preparing to unpack .../tesseract-ocr-rus_4.00~git24-0e00fe6-1.2_all.deb ...\n",
            "Unpacking tesseract-ocr-rus (4.00~git24-0e00fe6-1.2) ...\n",
            "Setting up tesseract-ocr-rus (4.00~git24-0e00fe6-1.2) ...\n"
          ]
        }
      ]
    },
    {
      "cell_type": "code",
      "source": [
        "!tesseract --list-langs"
      ],
      "metadata": {
        "colab": {
          "base_uri": "https://localhost:8080/"
        },
        "id": "TjYcDO4YH-q8",
        "outputId": "59c4c706-0439-4907-d674-e461bf96c4c6"
      },
      "execution_count": 8,
      "outputs": [
        {
          "output_type": "stream",
          "name": "stdout",
          "text": [
            "List of available languages (3):\n",
            "osd\n",
            "rus\n",
            "eng\n"
          ]
        }
      ]
    },
    {
      "cell_type": "code",
      "source": [
        "!which tesseract"
      ],
      "metadata": {
        "colab": {
          "base_uri": "https://localhost:8080/"
        },
        "id": "WTRUSjkyK-ci",
        "outputId": "a343440b-b306-45c7-f8ad-d4f02f9d73d3"
      },
      "execution_count": 9,
      "outputs": [
        {
          "output_type": "stream",
          "name": "stdout",
          "text": [
            "/usr/bin/tesseract\n"
          ]
        }
      ]
    },
    {
      "cell_type": "code",
      "source": [
        "# If tesseract is not executable in the PATH, include the following\n",
        "pytesseract.pytesseract.tesseract_cmd = (\n",
        "    r'/usr/bin/tesseract'\n",
        ")"
      ],
      "metadata": {
        "id": "FafK-bE-K-Yf"
      },
      "execution_count": 10,
      "outputs": []
    },
    {
      "cell_type": "code",
      "source": [
        "!tesseract --help-extra"
      ],
      "metadata": {
        "colab": {
          "base_uri": "https://localhost:8080/"
        },
        "id": "f9JxD_kVRZJJ",
        "outputId": "27d0724d-b128-45e7-9809-d609025c532d"
      },
      "execution_count": 11,
      "outputs": [
        {
          "output_type": "stream",
          "name": "stdout",
          "text": [
            "Usage:\n",
            "  tesseract --help | --help-extra | --help-psm | --help-oem | --version\n",
            "  tesseract --list-langs [--tessdata-dir PATH]\n",
            "  tesseract --print-parameters [options...] [configfile...]\n",
            "  tesseract imagename|imagelist|stdin outputbase|stdout [options...] [configfile...]\n",
            "\n",
            "OCR options:\n",
            "  --tessdata-dir PATH   Specify the location of tessdata path.\n",
            "  --user-words PATH     Specify the location of user words file.\n",
            "  --user-patterns PATH  Specify the location of user patterns file.\n",
            "  -l LANG[+LANG]        Specify language(s) used for OCR.\n",
            "  -c VAR=VALUE          Set value for config variables.\n",
            "                        Multiple -c arguments are allowed.\n",
            "  --psm NUM             Specify page segmentation mode.\n",
            "  --oem NUM             Specify OCR Engine mode.\n",
            "NOTE: These options must occur before any configfile.\n",
            "\n",
            "Page segmentation modes:\n",
            "  0    Orientation and script detection (OSD) only.\n",
            "  1    Automatic page segmentation with OSD.\n",
            "  2    Automatic page segmentation, but no OSD, or OCR.\n",
            "  3    Fully automatic page segmentation, but no OSD. (Default)\n",
            "  4    Assume a single column of text of variable sizes.\n",
            "  5    Assume a single uniform block of vertically aligned text.\n",
            "  6    Assume a single uniform block of text.\n",
            "  7    Treat the image as a single text line.\n",
            "  8    Treat the image as a single word.\n",
            "  9    Treat the image as a single word in a circle.\n",
            " 10    Treat the image as a single character.\n",
            " 11    Sparse text. Find as much text as possible in no particular order.\n",
            " 12    Sparse text with OSD.\n",
            " 13    Raw line. Treat the image as a single text line,\n",
            "       bypassing hacks that are Tesseract-specific.\n",
            "\n",
            "OCR Engine modes: (see https://github.com/tesseract-ocr/tesseract/wiki#linux)\n",
            "  0    Legacy engine only.\n",
            "  1    Neural nets LSTM engine only.\n",
            "  2    Legacy + LSTM engines.\n",
            "  3    Default, based on what is available.\n",
            "\n",
            "Single options:\n",
            "  -h, --help            Show minimal help message.\n",
            "  --help-extra          Show extra help for advanced users.\n",
            "  --help-psm            Show page segmentation modes.\n",
            "  --help-oem            Show OCR Engine modes.\n",
            "  -v, --version         Show version information.\n",
            "  --list-langs          List available languages for tesseract engine.\n",
            "  --print-parameters    Print tesseract parameters.\n"
          ]
        }
      ]
    },
    {
      "cell_type": "code",
      "source": [
        "# dowload file\n",
        "from google.colab import files\n",
        "uploaded = files.upload()"
      ],
      "metadata": {
        "colab": {
          "base_uri": "https://localhost:8080/",
          "height": 38
        },
        "id": "Ul1r8PtZH-yX",
        "outputId": "63c36e28-d60d-4db7-e4b5-5cd172e9cb75"
      },
      "execution_count": 2,
      "outputs": [
        {
          "output_type": "display_data",
          "data": {
            "text/plain": [
              "<IPython.core.display.HTML object>"
            ],
            "text/html": [
              "\n",
              "     <input type=\"file\" id=\"files-ecd9e820-bc9e-42c1-91a6-33c3c26fa986\" name=\"files[]\" multiple disabled\n",
              "        style=\"border:none\" />\n",
              "     <output id=\"result-ecd9e820-bc9e-42c1-91a6-33c3c26fa986\">\n",
              "      Upload widget is only available when the cell has been executed in the\n",
              "      current browser session. Please rerun this cell to enable.\n",
              "      </output>\n",
              "      <script>// Copyright 2017 Google LLC\n",
              "//\n",
              "// Licensed under the Apache License, Version 2.0 (the \"License\");\n",
              "// you may not use this file except in compliance with the License.\n",
              "// You may obtain a copy of the License at\n",
              "//\n",
              "//      http://www.apache.org/licenses/LICENSE-2.0\n",
              "//\n",
              "// Unless required by applicable law or agreed to in writing, software\n",
              "// distributed under the License is distributed on an \"AS IS\" BASIS,\n",
              "// WITHOUT WARRANTIES OR CONDITIONS OF ANY KIND, either express or implied.\n",
              "// See the License for the specific language governing permissions and\n",
              "// limitations under the License.\n",
              "\n",
              "/**\n",
              " * @fileoverview Helpers for google.colab Python module.\n",
              " */\n",
              "(function(scope) {\n",
              "function span(text, styleAttributes = {}) {\n",
              "  const element = document.createElement('span');\n",
              "  element.textContent = text;\n",
              "  for (const key of Object.keys(styleAttributes)) {\n",
              "    element.style[key] = styleAttributes[key];\n",
              "  }\n",
              "  return element;\n",
              "}\n",
              "\n",
              "// Max number of bytes which will be uploaded at a time.\n",
              "const MAX_PAYLOAD_SIZE = 100 * 1024;\n",
              "\n",
              "function _uploadFiles(inputId, outputId) {\n",
              "  const steps = uploadFilesStep(inputId, outputId);\n",
              "  const outputElement = document.getElementById(outputId);\n",
              "  // Cache steps on the outputElement to make it available for the next call\n",
              "  // to uploadFilesContinue from Python.\n",
              "  outputElement.steps = steps;\n",
              "\n",
              "  return _uploadFilesContinue(outputId);\n",
              "}\n",
              "\n",
              "// This is roughly an async generator (not supported in the browser yet),\n",
              "// where there are multiple asynchronous steps and the Python side is going\n",
              "// to poll for completion of each step.\n",
              "// This uses a Promise to block the python side on completion of each step,\n",
              "// then passes the result of the previous step as the input to the next step.\n",
              "function _uploadFilesContinue(outputId) {\n",
              "  const outputElement = document.getElementById(outputId);\n",
              "  const steps = outputElement.steps;\n",
              "\n",
              "  const next = steps.next(outputElement.lastPromiseValue);\n",
              "  return Promise.resolve(next.value.promise).then((value) => {\n",
              "    // Cache the last promise value to make it available to the next\n",
              "    // step of the generator.\n",
              "    outputElement.lastPromiseValue = value;\n",
              "    return next.value.response;\n",
              "  });\n",
              "}\n",
              "\n",
              "/**\n",
              " * Generator function which is called between each async step of the upload\n",
              " * process.\n",
              " * @param {string} inputId Element ID of the input file picker element.\n",
              " * @param {string} outputId Element ID of the output display.\n",
              " * @return {!Iterable<!Object>} Iterable of next steps.\n",
              " */\n",
              "function* uploadFilesStep(inputId, outputId) {\n",
              "  const inputElement = document.getElementById(inputId);\n",
              "  inputElement.disabled = false;\n",
              "\n",
              "  const outputElement = document.getElementById(outputId);\n",
              "  outputElement.innerHTML = '';\n",
              "\n",
              "  const pickedPromise = new Promise((resolve) => {\n",
              "    inputElement.addEventListener('change', (e) => {\n",
              "      resolve(e.target.files);\n",
              "    });\n",
              "  });\n",
              "\n",
              "  const cancel = document.createElement('button');\n",
              "  inputElement.parentElement.appendChild(cancel);\n",
              "  cancel.textContent = 'Cancel upload';\n",
              "  const cancelPromise = new Promise((resolve) => {\n",
              "    cancel.onclick = () => {\n",
              "      resolve(null);\n",
              "    };\n",
              "  });\n",
              "\n",
              "  // Wait for the user to pick the files.\n",
              "  const files = yield {\n",
              "    promise: Promise.race([pickedPromise, cancelPromise]),\n",
              "    response: {\n",
              "      action: 'starting',\n",
              "    }\n",
              "  };\n",
              "\n",
              "  cancel.remove();\n",
              "\n",
              "  // Disable the input element since further picks are not allowed.\n",
              "  inputElement.disabled = true;\n",
              "\n",
              "  if (!files) {\n",
              "    return {\n",
              "      response: {\n",
              "        action: 'complete',\n",
              "      }\n",
              "    };\n",
              "  }\n",
              "\n",
              "  for (const file of files) {\n",
              "    const li = document.createElement('li');\n",
              "    li.append(span(file.name, {fontWeight: 'bold'}));\n",
              "    li.append(span(\n",
              "        `(${file.type || 'n/a'}) - ${file.size} bytes, ` +\n",
              "        `last modified: ${\n",
              "            file.lastModifiedDate ? file.lastModifiedDate.toLocaleDateString() :\n",
              "                                    'n/a'} - `));\n",
              "    const percent = span('0% done');\n",
              "    li.appendChild(percent);\n",
              "\n",
              "    outputElement.appendChild(li);\n",
              "\n",
              "    const fileDataPromise = new Promise((resolve) => {\n",
              "      const reader = new FileReader();\n",
              "      reader.onload = (e) => {\n",
              "        resolve(e.target.result);\n",
              "      };\n",
              "      reader.readAsArrayBuffer(file);\n",
              "    });\n",
              "    // Wait for the data to be ready.\n",
              "    let fileData = yield {\n",
              "      promise: fileDataPromise,\n",
              "      response: {\n",
              "        action: 'continue',\n",
              "      }\n",
              "    };\n",
              "\n",
              "    // Use a chunked sending to avoid message size limits. See b/62115660.\n",
              "    let position = 0;\n",
              "    do {\n",
              "      const length = Math.min(fileData.byteLength - position, MAX_PAYLOAD_SIZE);\n",
              "      const chunk = new Uint8Array(fileData, position, length);\n",
              "      position += length;\n",
              "\n",
              "      const base64 = btoa(String.fromCharCode.apply(null, chunk));\n",
              "      yield {\n",
              "        response: {\n",
              "          action: 'append',\n",
              "          file: file.name,\n",
              "          data: base64,\n",
              "        },\n",
              "      };\n",
              "\n",
              "      let percentDone = fileData.byteLength === 0 ?\n",
              "          100 :\n",
              "          Math.round((position / fileData.byteLength) * 100);\n",
              "      percent.textContent = `${percentDone}% done`;\n",
              "\n",
              "    } while (position < fileData.byteLength);\n",
              "  }\n",
              "\n",
              "  // All done.\n",
              "  yield {\n",
              "    response: {\n",
              "      action: 'complete',\n",
              "    }\n",
              "  };\n",
              "}\n",
              "\n",
              "scope.google = scope.google || {};\n",
              "scope.google.colab = scope.google.colab || {};\n",
              "scope.google.colab._files = {\n",
              "  _uploadFiles,\n",
              "  _uploadFilesContinue,\n",
              "};\n",
              "})(self);\n",
              "</script> "
            ]
          },
          "metadata": {}
        }
      ]
    },
    {
      "cell_type": "code",
      "source": [
        "import glob\n",
        "import os\n",
        "path = \"/content/*.*\"\n",
        "for file in glob.glob(path):\n",
        "   print(os.path.basename(file))"
      ],
      "metadata": {
        "colab": {
          "base_uri": "https://localhost:8080/"
        },
        "id": "S5lnMmzUEfyx",
        "outputId": "48225e0c-4842-4ecb-c81f-49489ac0af06"
      },
      "execution_count": 5,
      "outputs": [
        {
          "output_type": "stream",
          "name": "stdout",
          "text": [
            "6.jpeg\n",
            "2.jpeg\n",
            "8.jpeg\n",
            "3.jpeg\n",
            "1.jpeg\n",
            "4.png\n",
            "7.jpeg\n",
            "0.jpeg\n",
            "5.jpeg\n",
            "9.jpeg\n"
          ]
        }
      ]
    },
    {
      "cell_type": "markdown",
      "source": [
        "# Tesseract"
      ],
      "metadata": {
        "id": "lOGBs3wyKfiP"
      }
    },
    {
      "cell_type": "code",
      "source": [
        "import glob\n",
        "path = \"/content/*.*\"\n",
        "for file in glob.glob(path):\n",
        "   print(os.path.basename(file))\n",
        "   print(pytesseract.image_to_string(file, lang='rus', config='--oem 3 --psm 3'))\n",
        "   print(\"____________\")\n",
        "   print()"
      ],
      "metadata": {
        "colab": {
          "base_uri": "https://localhost:8080/"
        },
        "id": "pM5lFEysA7ML",
        "outputId": "eb68bdc6-650f-4bb2-a361-d18a9d1bb2ce"
      },
      "execution_count": 25,
      "outputs": [
        {
          "output_type": "stream",
          "name": "stdout",
          "text": [
            "6.jpeg\n",
            "тосснйскля ФЕАКРАЦИЯ\n",
            "\n",
            "ыы. РОВД \"ИТИНО\" >\n",
            "тОР.МОСКВЫ\n",
            "\n",
            "5%\n",
            "\n",
            "ены-17,08.2000 деды, 712-104\n",
            "\n",
            "   \n",
            "  \n",
            "\n",
            " \n",
            "\n",
            "ВАСЛЕВСКИЙ\n",
            "\n",
            "ыы: ГРИГОРИЙ.\n",
            "\n",
            "„= ПЕТРОВИЧ\n",
            "\n",
            "= МУХ. 5. 04.03.1971\n",
            "\n",
            ">  С.ИДРИНСКОЕ\n",
            "КРАСНОЯРСКОГО КРАЯ\n",
            "\n",
            "<\n",
            "\n",
            "в\n",
            "\n",
            " \n",
            "\n",
            " \n",
            "\f\n",
            "____________\n",
            "\n",
            "2.jpeg\n",
            "РОССИЙСКАЯ ФЕДЕРАЦИЯ\n",
            "ОТДЕЛОМ ВНУТРЕННИХ ДЕЛ\n",
            "ГОР. КРАСНОЗНАМЕНСК\n",
            "\n",
            "16.10.2016 100-128\n",
            "\n",
            "дтн\n",
            "\n",
            "васае\n",
            "ШАПОШНИКОВА ®\n",
            "\n",
            "ВИКТОРИЯ |\n",
            "\n",
            "НИКОЛАЕВНА.\n",
            "14.09.1985\n",
            "КРАСНОЗНАМЕНСК\n",
            "\n",
            "311166 90 9\n",
            "\n",
            "<<<Пробная страничка Паспорт РФ 2017>>>\n",
            "\n",
            "<<<Стоимость программы 10 $>>>\n",
            "<<<Етаз1: Васкек1аБпем@дта+1. сош>>>>\n",
            "\n",
            " \n",
            "\f\n",
            "____________\n",
            "\n",
            "8.jpeg\n",
            "09455Т ТЕ 13\n",
            "\n",
            "22 77 пивевее об-ой\n",
            "\n",
            "С” Зосмш зиоволв\n",
            "\n",
            "отмах днохомази ой\n",
            "\n",
            "ииээо4 эиех ои\n",
            "1 в- пвод ес; ной\n",
            "МУ213802 пни!\n",
            "ВОСУШ. `402 ава\n",
            "имея иияомази 3+4\n",
            "39002 вис! 2\n",
            "| [ нуЗозиа1эи43ауе\n",
            "\n",
            "у Узьиж ь\n",
            "\n",
            "132760 11\n",
            "\n",
            "©\n",
            "©\n",
            "я\n",
            "я\n",
            "а\n",
            "э\n",
            "®\n",
            "я\n",
            "\n",
            "180-008\n",
            "КУЗЕВАНОВ\n",
            "АЛЕКСАНДР\n",
            "\n",
            "ИГОРЕВИЧ\n",
            "\n",
            "В ГОРОДЕ ГЛАЗОВЕ\n",
            "\n",
            "мо УФМС РОССИИ\n",
            "„18.01.2011.\n",
            "\n",
            "ПО ПЕРМСКОМУ КРАЮ\n",
            "\n",
            " \n",
            "\f\n",
            "____________\n",
            "\n",
            "3.jpeg\n",
            "россинииск\n",
            "\n",
            "Паспорт вылай\n",
            "\n",
            "АЯ\n",
            "\n",
            "ФЕЛЕРЕНИЯ\n",
            "\n",
            "ОТДЕЛОМ УФМС РОССИИ ПО\n",
            "\n",
            "САМАРСКОЙ ОБЛАСТИ В ЦЕНТРАЛЬНОМ\n",
            "\n",
            "РАЙОНЕ ГОРОДА\n",
            "Хата На: * 05 . 2 00 6 Кол подразделения\n",
            "\n",
            "ТОЛЬЯТТИ\n",
            "112-009\n",
            "\n",
            "Личный код\n",
            "\n",
            " \n",
            "\n",
            " \n",
            "\n",
            "Фамилия\n",
            "\n",
            "Имя\n",
            "\n",
            "Отчество\n",
            "\n",
            "п^ _ МУЖ..\n",
            "\n",
            "Место\n",
            "рождения\n",
            "\n",
            " \n",
            "\n",
            "АЛЕКСЕЕВИЧ\n",
            "ин ..06.05, 1986\n",
            "ГОР. САМАРА\n",
            "\n",
            " \n",
            "\f\n",
            "____________\n",
            "\n",
            "1.jpeg\n",
            "МО УФМС РОССИИ\n",
            "ПО МУРМАНСКОЙ ОБЛАСТИ\n",
            "В ГОРОДЕ МОНЧЕГОРСК.\n",
            "\n",
            "дн 05-2008\n",
            "\n",
            "123 - 005\n",
            "\n",
            "ХАЛАБУДИНА.\n",
            "\n",
            "юлия\n",
            "АЛЕКСЕЕВНА\n",
            "17.10.1988\n",
            "\n",
            " \n",
            "\f\n",
            "____________\n",
            "\n",
            "4.png\n",
            "ти №47 ОТДЕЛА УФСРОССИИ\n",
            "ПО сАНК\n",
            "\n",
            "ПЕТЕРБУРГУ И ЛЕНИНГРАДСКОЙ ОБЛ.\n",
            "\n",
            "В МОСКОВСКОМ Р-НЕ ГОРСАНКТ- ПЕТЕРБУРГА.\n",
            "\n",
            "ни\n",
            "\n",
            " \n",
            "\f\n",
            "____________\n",
            "\n",
            "7.jpeg\n",
            "россии склая ФЕЛЕРАНИЯ\n",
            "\n",
            "ОТДЕЛОМ ВНУТРЕННИХ ДЕЛ\n",
            "\n",
            "ОКТЯБРЬСКОГО ОКРУГА ^_\n",
            "› ГОРОДА АРХАНГЕЛЬСКА.\n",
            "17.12.2004 , 292-000\n",
            "\n",
            "Паспорт вылан\n",
            "\n",
            " \n",
            "\n",
            "ТЕ\n",
            "\n",
            "  \n",
            " \n",
            "  \n",
            "\n",
            "Дата выдачи\n",
            "\n",
            "|\n",
            "\n",
            "}\n",
            "\n",
            "|\n",
            "\n",
            "Личный код }\n",
            "в\n",
            "\n",
            "бе\" |\n",
            "\n",
            "п с |\n",
            "\n",
            "|\n",
            "\n",
            "ЕВ 4\n",
            "\n",
            "000000 70\n",
            "\n",
            "=== ЕЕЗЕЕЕЕЕЕ\n",
            "ИМЯРЕК —\n",
            "\n",
            " \n",
            "\n",
            " \n",
            "\n",
            "Е ЕВГЕНИЙ Г\n",
            "а _АЛЕКСАНДРОВИЧ\n",
            "\n",
            "м — _\n",
            "| Е 09.1682 = |\n",
            "\\, ГОР. АРХАНГЕЛЬСК ——\n",
            "\n",
            ">\n",
            "\n",
            "т >\n",
            "\n",
            "©\n",
            "\n",
            ">\n",
            "\n",
            "и а ыы >\n",
            "\f\n",
            "____________\n",
            "\n",
            "0.jpeg\n",
            "российскля ФЕДЕРАЦИ\n",
            "\n",
            "„= ПАСПОРТНО-ВИЗОВЫМ ОТДЕЛЕНИЕМ\n",
            "ОВД ПРЕСНЕНСКОГО РАЙОНА\n",
            "УВД ЦАО ГОРОДА МОСКВЫ\n",
            "\n",
            "-09. 20 чьи 7727112\n",
            "\n",
            "джон\n",
            "14.06.1946\n",
            "ГОР. КУИНС\n",
            "ШТАТ НЬЮ-ЙОРК\n",
            "сил.\n",
            "\n",
            " \n",
            "\f\n",
            "____________\n",
            "\n",
            "5.jpeg\n",
            "оси йскуя ФЛ ИЯ\n",
            "\n",
            "ОТДЕЛЕНИЕ УФМС РОССИИ\n",
            "ПО ПСКОВСКОЙ ОБЛАСТИ\n",
            "\n",
            "В ПЫТАЛОВСКОМ РАЙОНЕ\n",
            "9.08. 3018 600-022\n",
            "\n",
            "   \n",
            "\n",
            "2-е зай”: п\n",
            "\n",
            "С лет С р\n",
            "ми в о цжых\n",
            "\n",
            "т 88\n",
            "\n",
            "318 08Т\n",
            "\n",
            " \n",
            "\n",
            " \n",
            "\n",
            " \n",
            "\n",
            " \n",
            "\n",
            " \n",
            "\n",
            " \n",
            "\n",
            " \n",
            "\n",
            " \n",
            "\n",
            " \n",
            "\n",
            " \n",
            "\n",
            " \n",
            "\n",
            " \n",
            "\n",
            " \n",
            "   \n",
            "\n",
            "РОМАН\n",
            "\n",
            "ЮРЬЕВИЧ\n",
            "МУЖ. „.. 16.06.1995\n",
            "рожлмние _\n",
            "\n",
            " \n",
            "\n",
            "= ЕЙ к\n",
            "РМЕИ$МАКАКО\\ < <ВОМАМ< 7В9ЕУТЗ<<<<<<<<<<<<\n",
            "\n",
            "58118084218и59506169м<<<<<<<\n",
            "\f\n",
            "____________\n",
            "\n",
            "9.jpeg\n",
            "    \n",
            "\n",
            "ОТДЕЛОМ мс Р\n",
            "\n",
            "Паспорт ван И ИЕН : ны\n",
            "` НО СВЕРДЛОВСКОЙ\n",
            "\n",
            "ОвСком Р-НЕ ГОР.\n",
            "560-005\n",
            "\n",
            " \n",
            "     \n",
            "\n",
            " \n",
            "\n",
            " \n",
            "\n",
            " \n",
            "\n",
            " \n",
            "\n",
            " \n",
            "\n",
            " \n",
            "\n",
            " \n",
            "\n",
            " \n",
            "\n",
            " \n",
            "\n",
            " \n",
            "\n",
            " \n",
            "\n",
            " \n",
            "\n",
            " \n",
            "\n",
            " \n",
            "\n",
            " \n",
            "\n",
            " \n",
            "\n",
            " \n",
            "\n",
            " \n",
            "\n",
            " \n",
            "\n",
            " \n",
            "\n",
            " \n",
            "\n",
            " \n",
            "\f\n",
            "____________\n",
            "\n"
          ]
        }
      ]
    },
    {
      "cell_type": "code",
      "source": [
        "# detailed recognitipn of the first file\n",
        "image_path_in_colab='0.jpeg'\n",
        "extractedInformation = pytesseract.image_to_string(Image.open(image_path_in_colab), lang='rus', config='--oem 3 --psm 3')\n",
        "print(extractedInformation)"
      ],
      "metadata": {
        "colab": {
          "base_uri": "https://localhost:8080/"
        },
        "id": "RPGERs1RLUPi",
        "outputId": "60d2696b-e70d-4d44-b225-1117bf812a32"
      },
      "execution_count": 11,
      "outputs": [
        {
          "output_type": "stream",
          "name": "stdout",
          "text": [
            "росбиискля ФЕДЕРАЦИЯ\n",
            "\n",
            "ПАСПОРТНО-ВИЗОВЫМ ОТДЕЛЕНИЕМ\n",
            "ОВД ПРЕСНЕНСКОГО РАЙОНА\n",
            "УВД ЦАО ГОРОДА МОСКВЫ\n",
            "\n",
            "-09.11.201 6 нины—— 772-112\n",
            "\n",
            "джон\n",
            "= 14.06.1946\n",
            "ГОР. КУИНС\n",
            "ШТАТ НЬЮ-ЙОРК\n",
            "сил.\n",
            "\n",
            " \n",
            "\f\n"
          ]
        }
      ]
    },
    {
      "cell_type": "markdown",
      "source": [
        "Без предварительной обработки низкое качество распознавания, не распознались фамилия и имя. Попробуем провести предобработку изображения. \n",
        "cvtColor - преобразование цветного изображения в оттенки серого. Thresholding – метод сегментации изображений, используется для создания бинарных изображений (все оттенки меньше порога - до 0, все больше - до 255, например).  GaussianBlur - размытие/сглаживание."
      ],
      "metadata": {
        "id": "y0RtEbG2UmPu"
      }
    },
    {
      "cell_type": "code",
      "source": [
        "img_cv = cv2.imread('0.jpeg')\n",
        "# By default OpenCV stores images in BGR format and since pytesseract assumes RGB format,\n",
        "# we need to convert from BGR to RGB format/mode\n",
        "d = cv2.cvtColor(img_cv, cv2.COLOR_BGR2GRAY)\n",
        "print(pytesseract.image_to_string(d, lang='rus', config='--oem 3 --psm 3'))"
      ],
      "metadata": {
        "id": "UQWbAV3NLUFB",
        "colab": {
          "base_uri": "https://localhost:8080/"
        },
        "outputId": "0d8b4c44-6593-4b66-8ffb-fd9f477456f5"
      },
      "execution_count": 12,
      "outputs": [
        {
          "output_type": "stream",
          "name": "stdout",
          "text": [
            "СийсКля ФЕДЕРАЦИЯ\n",
            "\n",
            "ПАСПОРТНО-ВИЗОВЫМ ОТДЕЛЕНИЕМ\n",
            "ОВД ПРЕСНЕНСКОГО РАЙОНА.\n",
            "УВД ЦАО ГОРОДА МОСКВЫ\n",
            "\n",
            "оо а иыь-— 7722112\n",
            "\n",
            "ТРАМП\n",
            "\n",
            "ДОНАЛЬД\n",
            "джон\n",
            "14.06.1946\n",
            "ГОР. КУИНС\n",
            "ШТАТ НЬЮ-ЙОРК\n",
            "сил.\n",
            "\n",
            " \n",
            "\f\n"
          ]
        }
      ]
    },
    {
      "cell_type": "code",
      "source": [
        "thresh = cv2.threshold(d, 0, 255, cv2.THRESH_OTSU)[1]\n",
        "print(pytesseract.image_to_string(thresh, lang='rus', config='--oem 3 --psm 3'))"
      ],
      "metadata": {
        "id": "ZWSoy8Sn68ha",
        "colab": {
          "base_uri": "https://localhost:8080/"
        },
        "outputId": "80fc4030-f11c-43a4-cae6-6d0f768e98a9"
      },
      "execution_count": 32,
      "outputs": [
        {
          "output_type": "stream",
          "name": "stdout",
          "text": [
            "сийская огл ныя\n",
            "\n",
            "ПАСПОРТНО-ВИЗОВЫМ ОТДЕЛЕНИЕМ\n",
            "ОВД ПРЕСНЕНСКОГО РАЙОНА.\n",
            "УВД ЦАО ГОРОДА МОСКВЫ\n",
            "\n",
            ".09.11.2016,. лье 772-112\n",
            "\n",
            "ТРАМИ\n",
            "\n",
            "донАЛЬд\n",
            "джон\n",
            "14.06.1946\n",
            "ГОР. КУИНС\n",
            "ШТАТ НЬЮ-ЙОРК\n",
            "сил.\n",
            "\n",
            " \n",
            "\f\n"
          ]
        }
      ]
    },
    {
      "cell_type": "code",
      "source": [
        "img = cv2.imread('0.jpeg', 0)\n",
        " \n",
        "print('Original Dimensions : ',img.shape)"
      ],
      "metadata": {
        "colab": {
          "base_uri": "https://localhost:8080/"
        },
        "id": "CQJDFge5vJeV",
        "outputId": "e94597ea-fe24-4d20-ec7b-0314e4dbdec2"
      },
      "execution_count": 35,
      "outputs": [
        {
          "output_type": "stream",
          "name": "stdout",
          "text": [
            "Original Dimensions :  (624, 447)\n"
          ]
        }
      ]
    },
    {
      "cell_type": "code",
      "source": [
        "img_Blur = cv2.GaussianBlur(img, (5, 5), 0)\n",
        "pytesseract.image_to_string(img_Blur, lang='rus', config='-psm 3')\n",
        "#img = cv2.blur(img, (5, 5))"
      ],
      "metadata": {
        "id": "CIqeJ5HlSGpc",
        "colab": {
          "base_uri": "https://localhost:8080/",
          "height": 35
        },
        "outputId": "a81e1f5a-7041-4d0a-9ce5-b96458d14af2"
      },
      "execution_count": 36,
      "outputs": [
        {
          "output_type": "execute_result",
          "data": {
            "text/plain": [
              "'ПАСПОРТНО-ВИЗОВЫМ ОТДЕЛЕНИ\\nОВД ПРЕСНЕНСКОГО РАЙОНА\\nУВД ЦАО ГОРОДА МОСКВЫ\\n\\n09.11.2016 112\\n\\nдонАЛЬХ\\nджон\\n14.06.1946\\nГОР. куинс\\nЕТАТ НЬЮ-ЙОРК\\nсл\\n\\n \\n\\x0c'"
            ],
            "application/vnd.google.colaboratory.intrinsic+json": {
              "type": "string"
            }
          },
          "metadata": {},
          "execution_count": 36
        }
      ]
    },
    {
      "cell_type": "markdown",
      "source": [
        "# **easyocr**"
      ],
      "metadata": {
        "id": "PWfPraWp06Aw"
      }
    },
    {
      "cell_type": "code",
      "source": [
        "!pip install easyocr"
      ],
      "metadata": {
        "colab": {
          "base_uri": "https://localhost:8080/"
        },
        "id": "mcswi0Yb0_u1",
        "outputId": "6078c5a7-2686-4e18-9da5-af813f623711"
      },
      "execution_count": 1,
      "outputs": [
        {
          "output_type": "stream",
          "name": "stdout",
          "text": [
            "Looking in indexes: https://pypi.org/simple, https://us-python.pkg.dev/colab-wheels/public/simple/\n",
            "Requirement already satisfied: easyocr in /usr/local/lib/python3.7/dist-packages (1.6.2)\n",
            "Requirement already satisfied: Pillow in /usr/local/lib/python3.7/dist-packages (from easyocr) (9.3.0)\n",
            "Requirement already satisfied: opencv-python-headless<=4.5.4.60 in /usr/local/lib/python3.7/dist-packages (from easyocr) (4.5.4.60)\n",
            "Requirement already satisfied: torch in /usr/local/lib/python3.7/dist-packages (from easyocr) (1.12.1+cu113)\n",
            "Requirement already satisfied: python-bidi in /usr/local/lib/python3.7/dist-packages (from easyocr) (0.4.2)\n",
            "Requirement already satisfied: numpy in /usr/local/lib/python3.7/dist-packages (from easyocr) (1.21.6)\n",
            "Requirement already satisfied: Shapely in /usr/local/lib/python3.7/dist-packages (from easyocr) (1.8.5.post1)\n",
            "Requirement already satisfied: PyYAML in /usr/local/lib/python3.7/dist-packages (from easyocr) (6.0)\n",
            "Requirement already satisfied: torchvision>=0.5 in /usr/local/lib/python3.7/dist-packages (from easyocr) (0.13.1+cu113)\n",
            "Requirement already satisfied: scipy in /usr/local/lib/python3.7/dist-packages (from easyocr) (1.7.3)\n",
            "Requirement already satisfied: pyclipper in /usr/local/lib/python3.7/dist-packages (from easyocr) (1.3.0.post4)\n",
            "Requirement already satisfied: ninja in /usr/local/lib/python3.7/dist-packages (from easyocr) (1.11.1)\n",
            "Requirement already satisfied: scikit-image in /usr/local/lib/python3.7/dist-packages (from easyocr) (0.18.3)\n",
            "Requirement already satisfied: requests in /usr/local/lib/python3.7/dist-packages (from torchvision>=0.5->easyocr) (2.23.0)\n",
            "Requirement already satisfied: typing-extensions in /usr/local/lib/python3.7/dist-packages (from torchvision>=0.5->easyocr) (4.1.1)\n",
            "Requirement already satisfied: six in /usr/local/lib/python3.7/dist-packages (from python-bidi->easyocr) (1.15.0)\n",
            "Requirement already satisfied: urllib3!=1.25.0,!=1.25.1,<1.26,>=1.21.1 in /usr/local/lib/python3.7/dist-packages (from requests->torchvision>=0.5->easyocr) (1.24.3)\n",
            "Requirement already satisfied: certifi>=2017.4.17 in /usr/local/lib/python3.7/dist-packages (from requests->torchvision>=0.5->easyocr) (2022.9.24)\n",
            "Requirement already satisfied: idna<3,>=2.5 in /usr/local/lib/python3.7/dist-packages (from requests->torchvision>=0.5->easyocr) (2.10)\n",
            "Requirement already satisfied: chardet<4,>=3.0.2 in /usr/local/lib/python3.7/dist-packages (from requests->torchvision>=0.5->easyocr) (3.0.4)\n",
            "Requirement already satisfied: imageio>=2.3.0 in /usr/local/lib/python3.7/dist-packages (from scikit-image->easyocr) (2.9.0)\n",
            "Requirement already satisfied: PyWavelets>=1.1.1 in /usr/local/lib/python3.7/dist-packages (from scikit-image->easyocr) (1.3.0)\n",
            "Requirement already satisfied: tifffile>=2019.7.26 in /usr/local/lib/python3.7/dist-packages (from scikit-image->easyocr) (2021.11.2)\n",
            "Requirement already satisfied: networkx>=2.0 in /usr/local/lib/python3.7/dist-packages (from scikit-image->easyocr) (2.6.3)\n",
            "Requirement already satisfied: matplotlib!=3.0.0,>=2.0.0 in /usr/local/lib/python3.7/dist-packages (from scikit-image->easyocr) (3.2.2)\n",
            "Requirement already satisfied: python-dateutil>=2.1 in /usr/local/lib/python3.7/dist-packages (from matplotlib!=3.0.0,>=2.0.0->scikit-image->easyocr) (2.8.2)\n",
            "Requirement already satisfied: kiwisolver>=1.0.1 in /usr/local/lib/python3.7/dist-packages (from matplotlib!=3.0.0,>=2.0.0->scikit-image->easyocr) (1.4.4)\n",
            "Requirement already satisfied: pyparsing!=2.0.4,!=2.1.2,!=2.1.6,>=2.0.1 in /usr/local/lib/python3.7/dist-packages (from matplotlib!=3.0.0,>=2.0.0->scikit-image->easyocr) (3.0.9)\n",
            "Requirement already satisfied: cycler>=0.10 in /usr/local/lib/python3.7/dist-packages (from matplotlib!=3.0.0,>=2.0.0->scikit-image->easyocr) (0.11.0)\n"
          ]
        }
      ]
    },
    {
      "cell_type": "code",
      "source": [
        "import os.path\n",
        "\n",
        "import easyocr\n",
        "from PIL import Image"
      ],
      "metadata": {
        "id": "qC8VCvgA1m04"
      },
      "execution_count": 6,
      "outputs": []
    },
    {
      "cell_type": "code",
      "source": [
        "# распознавание с помощью easyocr, параметры: отключена детализация вывода,\n",
        "# включены параграфы и установлена точность текста\n",
        "import glob\n",
        "path = \"/content/*.*\"\n",
        "for file in glob.glob(path):\n",
        "   print(os.path.basename(file))\n",
        "   print(easyocr.Reader([\"en\", \"ru\"]).readtext(file, detail=0, paragraph=True, text_threshold=0.8))\n",
        "   print(\"____________\")\n",
        "   print()"
      ],
      "metadata": {
        "colab": {
          "base_uri": "https://localhost:8080/"
        },
        "id": "Ma0OQZ-PEu2b",
        "outputId": "3dbcfe77-79ca-448e-8873-e31cb8a86adb"
      },
      "execution_count": 8,
      "outputs": [
        {
          "output_type": "stream",
          "name": "stderr",
          "text": [
            "WARNING:easyocr.easyocr:CUDA not available - defaulting to CPU. Note: This module is much faster with a GPU.\n"
          ]
        },
        {
          "output_type": "stream",
          "name": "stdout",
          "text": [
            "6.jpeg\n"
          ]
        },
        {
          "output_type": "stream",
          "name": "stderr",
          "text": [
            "WARNING:easyocr.easyocr:CUDA not available - defaulting to CPU. Note: This module is much faster with a GPU.\n"
          ]
        },
        {
          "output_type": "stream",
          "name": "stdout",
          "text": [
            "['РОвД МитяНа\" ГОР . УОСkЕH', 'J1 2000', '772-104', 'ВАСЛЕ ВСЖЯЖ', 'FPИГОPJ# ПЕтРОВиц 01+1971 КДРИнСкОE КРАСНОЯРСТОТО #Ряя']\n",
            "____________\n",
            "\n",
            "2.jpeg\n"
          ]
        },
        {
          "output_type": "stream",
          "name": "stderr",
          "text": [
            "WARNING:easyocr.easyocr:CUDA not available - defaulting to CPU. Note: This module is much faster with a GPU.\n"
          ]
        },
        {
          "output_type": "stream",
          "name": "stdout",
          "text": [
            "['C и й € КLA Ф 1 A Е ₽ А ц и Я ОТДЕЛОМ ВНУТРЕННИХ ДЕЛ ГОР КРАСНОЗНАМЕНСК', '16 . 10.2016', '100-128', '8', '3', 'ШАПОШНИКОВА', 'ВИКТОРИЯ НИКОЛАЕВНА ЖЕН 09 . 1985 ГОР КРАСНОЗНАМЕНСК', '$ 5 <<<Пробная страничка Паспорт РФ 2017>>> <<<Стоимость программы 10 $>>> <<<Email: hackerlabnew@ gmail com>>> >', 'aavzg:']\n",
            "____________\n",
            "\n",
            "8.jpeg\n"
          ]
        },
        {
          "output_type": "stream",
          "name": "stderr",
          "text": [
            "WARNING:easyocr.easyocr:CUDA not available - defaulting to CPU. Note: This module is much faster with a GPU.\n"
          ]
        },
        {
          "output_type": "stream",
          "name": "stdout",
          "text": [
            "['С и Й СкА', '1 Д БИTA ц И Я', 'MO УФМС РОССИИ по ПЕРМСКОМУ КРАЮ ГОРОДЕ ГЛАЗОВЕ Аята пымч ] 8 . 01.2011 180-008', '9', '8 3 g : 1 8 ! Ill 9 2 ₽ g g E ;', 'F', ':', '2', '5', 'КУЗЕВАНОВ', 'АЛЕКСАНДР ИГОРЕВИЧ 18 . 09 .1980 ГОР глАзОВ', 'с F', 'МуЖ', 'g']\n",
            "____________\n",
            "\n",
            "3.jpeg\n"
          ]
        },
        {
          "output_type": "stream",
          "name": "stderr",
          "text": [
            "WARNING:easyocr.easyocr:CUDA not available - defaulting to CPU. Note: This module is much faster with a GPU.\n"
          ]
        },
        {
          "output_type": "stream",
          "name": "stdout",
          "text": [
            "['₽ 0 С С И й С K A Я', 'Ф Е 4 Е ₽ А Ц и Я', 'Ласпорт выдан', 'ОТДЕЛОМ УФМС РОССИИ ПО', 'САМАРСКОЙ ОБЛАСТИ В ЦЕНТРАЛЬНОМ РАЙОНЕ ГОРОДА тольятти Дата выдачи 08 05.2006 Код подраздеАения 112-009', 'с?', '8', 'служба 74114l ( € 2 ё 069', 'Дичннй Код', 'g Мw поуинев', 'Фаммлия', 'дАймОНД', '1wл', 'ДМИТРИЙ Отчсстно АЛЕКСЕЕВИЧ Ilол МУЖ  ротаения 06 05 . 1986 Меcтo ГОР САМАРА рождения', 'с', '8', 'ё']\n",
            "____________\n",
            "\n",
            "1.jpeg\n"
          ]
        },
        {
          "output_type": "stream",
          "name": "stderr",
          "text": [
            "WARNING:easyocr.easyocr:CUDA not available - defaulting to CPU. Note: This module is much faster with a GPU.\n"
          ]
        },
        {
          "output_type": "stream",
          "name": "stdout",
          "text": [
            "['€ Ии € к 4 Я', 'Ф Е4 ₽ ₽', 'И %', 'мO УФМС РОССИИ ПО МУРМАНСКОЙ ОБЛАСТИ', 'В ГОРОДЕ МОНЧЕГОРСК 2008', '123 005', '7/', 'ё', 'ХАЛАБУДИНА', 'ЮЛИЯ', 'АЛЕКСЕЕВНА 10 1988', '8', 'МОНЧЕГОРСК', 'ё']\n",
            "____________\n",
            "\n",
            "4.png\n"
          ]
        },
        {
          "output_type": "stream",
          "name": "stderr",
          "text": [
            "WARNING:easyocr.easyocr:CUDA not available - defaulting to CPU. Note: This module is much faster with a GPU.\n"
          ]
        },
        {
          "output_type": "stream",
          "name": "stdout",
          "text": [
            "['ОТДЕЛА УФМС РОССИИ', 'ПО CАНКТ-ПЕТЕРБУРГУ H ЛЕНИНГРАДСКОЙ ОБЛ; #могкОвском ~HE ГОР САНКТ ПЕТЕРБУРГА 2012 T8П-047', 'рем', '2', 'Талгчс м~ниаша хэбры аy 53 FUзatoin', 'Wbnejl', 'сОкаЛОТ', 'шкшилва', 'АНДРЕИ АНДРЕЕНИЧ 1 957', 'FOР СОЛИкАМСК пеРыскоГижкРАЛ', 'УHU 5 594 4', 'E1 <;ayDRBUi.', '4015 639 93 9#U 5 9 20 9289 М < << < <<<<<<2121[2378 D! ,7 <16']\n",
            "____________\n",
            "\n",
            "7.jpeg\n"
          ]
        },
        {
          "output_type": "stream",
          "name": "stderr",
          "text": [
            "WARNING:easyocr.easyocr:CUDA not available - defaulting to CPU. Note: This module is much faster with a GPU.\n"
          ]
        },
        {
          "output_type": "stream",
          "name": "stdout",
          "text": [
            "['Р0 С С И Й € K А Я', 'Ф ЕД Е Р A Щи Я', 'ОТДЕЛОМ ВНУТРЕННИХ ДЕЛ Паспорт выдан ОКТЯБРЬСКОГО ОКРУГА ГОРОДА АРХАНГЕЛЬСКА 17 12.2004 292-000 Цата выдачи овая сЛчэба (Yл 8 Аичныйскод', 'н', '2', '3', 'нодписъ', 'ИМЯРЕК', 'Фжмихня', 'ЕВГЕНИЙ', 'н', 'АЛЕКСАНДРОВИЧ', 'Отчетво', 'МУЖ Iол', 'Дата 12.09 1682 рожАения Mесто ГОР АРХАНГЕЛЬСК рождения', '2', '3']\n",
            "____________\n",
            "\n",
            "0.jpeg\n"
          ]
        },
        {
          "output_type": "stream",
          "name": "stderr",
          "text": [
            "WARNING:easyocr.easyocr:CUDA not available - defaulting to CPU. Note: This module is much faster with a GPU.\n"
          ]
        },
        {
          "output_type": "stream",
          "name": "stdout",
          "text": [
            "['C с и и с к ; я', 'ПАСПОРТНО-визовым ОтДЕЛЕНИЕМ овд ПРЕСНЕНСКОГО РАЙОНА УВД ЦАО ГОРОДА МОСКВЫ 09.11.2016 772-112', '&', 'NwWlwn', 'ТРАМП', 'ДОНАЛЬД Джон', '14 . 06 . 1946 ГОР КУИНС', 'ШТАТ НЬЮ-ЙОРК', 'g', 'США']\n",
            "____________\n",
            "\n",
            "5.jpeg\n"
          ]
        },
        {
          "output_type": "stream",
          "name": "stderr",
          "text": [
            "WARNING:easyocr.easyocr:CUDA not available - defaulting to CPU. Note: This module is much faster with a GPU.\n"
          ]
        },
        {
          "output_type": "stream",
          "name": "stdout",
          "text": [
            "['и', 'К', 'F A 1 ₽A ци', 'ОТДЕЛЕНИЕ УФМС РОССИИ ПО ПСКОВСКОЙ ОБЛАСТИ', 'Ол 0', 'B ПЫТАЛОВСКОМ РАИОНЕ 30 . 06 . 2015 600-022', 'F', '3', 'МАКАРОВ', 'с', 'РОМАН', 'ЮРЬЕВИЧ 16.06.1995', 'F', 'МУЖ .', 'ДЕР БОРОУСЫ ПЫТАЛОВСКОГО РHA', ': ПСКОВСКОЙ ОБЛ', 'PNR U SMAKAROV < <ROMAN<7R9EVIЗ<<<<<<<<<<<<<<<<< 5811808421RUS 9506169М<<<<<<<4150630600022<10', '\"6-02']\n",
            "____________\n",
            "\n",
            "9.jpeg\n",
            "[\"Я Ф  f 4 € ₽ ^ Ц и Я ₽ 0 с € и й € К А ЛIДЕлоМ УФРIС Расони Ласпорт зыда НO СВЕРДЛОВСКОЙ ОБАСтЙ 8 P~HE ГOР = ЕКАТЕРИНЬУРМ 5 КИРовскОМ 660 005 15.02.2011 + #зделения Цaта вадачн Анчый код : '(мо Аичная иоfmнсь\", '# ` {AKAЕВА', 'РФ', 'Фaжлпния', 'РФ', '#АНН НРФ АНАТОЛЬЕВНА Отчество ЖЕH  ротАения 09.05.19z7 Ioл Mecто рождения FOF СВЕРДловСК', '+', 'g', 'Р4P']\n",
            "____________\n",
            "\n"
          ]
        }
      ]
    },
    {
      "cell_type": "code",
      "source": [
        "# распознавание с помощью easyocr, параметры: отключена детализация вывода,\n",
        "# включены параграфы и установлена точность текста\n",
        "easyocr.Reader([\"ru\"]).readtext('0.jpeg', detail=0, paragraph=True, text_threshold=0.8)"
      ],
      "metadata": {
        "colab": {
          "base_uri": "https://localhost:8080/"
        },
        "id": "Zya42UlS1PZj",
        "outputId": "a8040b1c-927c-438c-d924-7206edb93032"
      },
      "execution_count": 15,
      "outputs": [
        {
          "output_type": "stream",
          "name": "stderr",
          "text": [
            "WARNING:easyocr.easyocr:CUDA not available - defaulting to CPU. Note: This module is much faster with a GPU.\n"
          ]
        },
        {
          "output_type": "execute_result",
          "data": {
            "text/plain": [
              "['С с и и с к ; я',\n",
              " 'ПАСПОРТНО-визовым ОтДЕЛЕНИЕМ овд ПРЕСНЕНСКОГО РАЙОНА УВД ЦАО ГОРОДА МОСКВЫ 09.11.2016 772-112',\n",
              " '&',\n",
              " '~/',\n",
              " 'ТРАМП',\n",
              " 'ДОНАЛЬД Джон',\n",
              " '14 . 06 . 1946 ГОР КУИНС',\n",
              " 'ШТАТ НЬЮ-ЙОРК',\n",
              " '8',\n",
              " 'США']"
            ]
          },
          "metadata": {},
          "execution_count": 15
        }
      ]
    },
    {
      "cell_type": "code",
      "source": [
        "# After convertion to graycolors\n",
        "easyocr.Reader([\"en\", \"ru\"]).readtext(d, detail=0, paragraph=True, text_threshold=0.8)"
      ],
      "metadata": {
        "colab": {
          "base_uri": "https://localhost:8080/"
        },
        "id": "XJQJBU9kBlje",
        "outputId": "fb6d462b-9e8a-4edf-b386-8e2c7bc2ee43"
      },
      "execution_count": 16,
      "outputs": [
        {
          "output_type": "stream",
          "name": "stderr",
          "text": [
            "WARNING:easyocr.easyocr:CUDA not available - defaulting to CPU. Note: This module is much faster with a GPU.\n"
          ]
        },
        {
          "output_type": "execute_result",
          "data": {
            "text/plain": [
              "['си й',\n",
              " 'ПАСПОРТНО-визовым ОтДЕЛЕНИЕМ овд ПРЕСНЕНСКОГО РАЙОНА УВД ЦАО ГОРОДА МОСКВЫ 09.11.201 772-112',\n",
              " '&',\n",
              " 'MwWiww  ',\n",
              " 'ТРАМП',\n",
              " 'ДОНАЛЬД джон 14 . 06 . 1946 ГОР КУИНС',\n",
              " 'ШТАТ НЬЮ-ЙОРК',\n",
              " 'США',\n",
              " '&']"
            ]
          },
          "metadata": {},
          "execution_count": 16
        }
      ]
    }
  ]
}